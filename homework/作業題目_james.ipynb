{
 "nbformat": 4,
 "nbformat_minor": 0,
 "metadata": {
  "colab": {
   "name": "作業題目_james.ipynb",
   "provenance": [],
   "collapsed_sections": []
  },
  "kernelspec": {
   "name": "python3",
   "language": "python",
   "display_name": "Python 3"
  }
 },
 "cells": [
  {
   "cell_type": "markdown",
   "metadata": {
    "id": "5aWZnhxBD2p2"
   },
   "source": [
    "作業目標:<br>\n",
    "在array中，可以靈活應用索引幫助資料擷取<br>\n",
    "作業重點:<br>\n",
    "陣列的屬性需要注意使用方式<br>\n",
    "陣列之中索引是由0開始請同學注意"
   ]
  },
  {
   "cell_type": "markdown",
   "metadata": {
    "id": "Ec7jpEEnD4rj"
   },
   "source": [
    "題目:<br>\n",
    "1.生成一個等差數列，首數為0，尾數為20，公差為1的數列。<br>\n",
    "2.呈上題，將以上數列取出偶數。<br>\n",
    "3.呈1題，將數列取出3的倍數。<br>"
   ]
  },
  {
   "cell_type": "code",
   "metadata": {
    "id": "NfVTcwauD3rg"
   },
   "source": [
    "import numpy as np"
   ],
   "execution_count": 2,
   "outputs": []
  },
  {
   "cell_type": "code",
   "metadata": {
    "id": "QrOaxfmeEpvo"
   },
   "source": [
    "#1.生成一個等差數列，首數為0，尾數為20，公差為1的數列。\n",
    "np.arange(0,21)\n"
   ],
   "execution_count": 3,
   "outputs": [
    {
     "data": {
      "text/plain": "array([ 0,  1,  2,  3,  4,  5,  6,  7,  8,  9, 10, 11, 12, 13, 14, 15, 16,\n       17, 18, 19, 20])"
     },
     "execution_count": 3,
     "metadata": {},
     "output_type": "execute_result"
    }
   ]
  },
  {
   "cell_type": "code",
   "metadata": {
    "id": "5FFeFSvoEtRP"
   },
   "source": [
    "#2.呈上題，將以上數列取出偶數。\n",
    "np.arange(0,21,step=2)"
   ],
   "execution_count": 4,
   "outputs": [
    {
     "data": {
      "text/plain": "array([ 0,  2,  4,  6,  8, 10, 12, 14, 16, 18, 20])"
     },
     "execution_count": 4,
     "metadata": {},
     "output_type": "execute_result"
    }
   ]
  },
  {
   "cell_type": "code",
   "metadata": {
    "id": "7-HcNGFsFD-_"
   },
   "source": [
    "#3.呈1題，將數列取出3的倍數。\n",
    "\n",
    "np.arange(3,21,step=3)"
   ],
   "execution_count": 5,
   "outputs": [
    {
     "data": {
      "text/plain": "array([ 3,  6,  9, 12, 15, 18])"
     },
     "execution_count": 5,
     "metadata": {},
     "output_type": "execute_result"
    }
   ]
  },
  {
   "cell_type": "code",
   "metadata": {
    "id": "6_6Emob-FHn3"
   },
   "source": [
    ""
   ],
   "execution_count": null,
   "outputs": []
  }
 ]
}